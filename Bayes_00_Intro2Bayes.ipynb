{
 "cells": [
  {
   "cell_type": "markdown",
   "id": "44a01a2d-0cb8-460b-985d-76441381625b",
   "metadata": {},
   "source": [
    "# STA365 Week 1 Python code"
   ]
  },
  {
   "cell_type": "code",
   "execution_count": 1,
   "id": "8c5d6d21",
   "metadata": {},
   "outputs": [],
   "source": [
    "from scipy import stats # scipy 是专门做统计分析的 python 包\n",
    "import matplotlib.pyplot as plt # matplotlib 是专门画图的 python 包"
   ]
  },
  {
   "cell_type": "code",
   "execution_count": 2,
   "id": "8995f4cc",
   "metadata": {},
   "outputs": [],
   "source": [
    "# 定义一个二元分布 (Bernoulli distribution)，试验次数为 10，每次成功的概率为 0.3\n",
    "bin_10_p3 = stats.binom(n=10, p=.3)"
   ]
  },
  {
   "cell_type": "code",
   "execution_count": 3,
   "id": "13ac3de4",
   "metadata": {},
   "outputs": [],
   "source": [
    "# 从定义的 Bernoulli distribution 中随机生成 100 个实现值 (realizations)\n",
    "x = bin_10_p3.rvs(size=100)"
   ]
  },
  {
   "cell_type": "code",
   "execution_count": 4,
   "id": "7d5cce83",
   "metadata": {},
   "outputs": [
    {
     "data": {
      "text/plain": [
       "(array([ 2., 12.,  0., 24.,  0., 27., 28.,  0.,  6.,  1.]),\n",
       " array([0. , 0.6, 1.2, 1.8, 2.4, 3. , 3.6, 4.2, 4.8, 5.4, 6. ]),\n",
       " <BarContainer object of 10 artists>)"
      ]
     },
     "execution_count": 4,
     "metadata": {},
     "output_type": "execute_result"
    },
    {
     "data": {
      "image/png": "[encoded data removed]",
      "text/plain": [
       "<Figure size 640x480 with 1 Axes>"
      ]
     },
     "metadata": {},
     "output_type": "display_data"
    }
   ],
   "source": [
    "plt.hist(x) # 观看 100 个实现值的 histogram（分布）"
   ]
  }
 ],
 "metadata": {
  "celltoolbar": "Slideshow",
  "kernelspec": {
   "display_name": "Python 3 (ipykernel)",
   "language": "python",
   "name": "python3"
  },
  "language_info": {
   "codemirror_mode": {
    "name": "ipython",
    "version": 3
   },
   "file_extension": ".py",
   "mimetype": "text/x-python",
   "name": "python",
   "nbconvert_exporter": "python",
   "pygments_lexer": "ipython3",
   "version": "3.12.6"
  }
 },
 "nbformat": 4,
 "nbformat_minor": 5
}
